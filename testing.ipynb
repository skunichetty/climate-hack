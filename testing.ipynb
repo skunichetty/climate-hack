{
 "cells": [
  {
   "cell_type": "code",
   "execution_count": 1,
   "metadata": {},
   "outputs": [],
   "source": [
    "%load_ext autoreload\n",
    "%autoreload 2"
   ]
  },
  {
   "cell_type": "code",
   "execution_count": 2,
   "metadata": {},
   "outputs": [],
   "source": [
    "import torch\n",
    "from infra.model_base import ModelBase\n",
    "import requests\n",
    "import shutil\n",
    "import pathlib\n",
    "import pickle"
   ]
  },
  {
   "cell_type": "code",
   "execution_count": 3,
   "metadata": {},
   "outputs": [],
   "source": [
    "r = requests.get(\"https://www.cs.toronto.edu/~kriz/cifar-10-python.tar.gz\", stream=True)\n",
    "download = pathlib.Path(\"./temp\")\n",
    "if not download.exists():\n",
    "    download.mkdir(parents=True)\n",
    "download = download / \"cifar-10.tar.gz\"\n",
    "with download.open(\"wb\") as fout:\n",
    "    shutil.copyfileobj(r.raw, fout)"
   ]
  },
  {
   "cell_type": "code",
   "execution_count": 10,
   "metadata": {},
   "outputs": [
    {
     "name": "stdout",
     "output_type": "stream",
     "text": [
      "cifar-10-batches-py/\n",
      "cifar-10-batches-py/data_batch_4\n",
      "cifar-10-batches-py/readme.html\n",
      "cifar-10-batches-py/test_batch\n",
      "cifar-10-batches-py/data_batch_3\n",
      "cifar-10-batches-py/batches.meta\n",
      "cifar-10-batches-py/data_batch_2\n",
      "cifar-10-batches-py/data_batch_5\n",
      "cifar-10-batches-py/data_batch_1\n"
     ]
    }
   ],
   "source": [
    "!tar -xvzf ./temp/cifar-10.tar.gz -C ./temp \n",
    "def unpickle(file):\n",
    "    import pickle\n",
    "    with open(file, 'rb') as fo:\n",
    "        dict = pickle.load(fo, encoding='bytes')\n",
    "    return dict\n",
    "batch_1 = unpickle(\"./temp/cifar-10-batches-py/data_batch_1\")"
   ]
  },
  {
   "cell_type": "code",
   "execution_count": 53,
   "metadata": {},
   "outputs": [],
   "source": [
    "class TestNet(ModelBase):\n",
    "    def __init__(self, *args, **kwargs):\n",
    "        super(TestNet, self).__init__(*args, **kwargs)\n",
    "        self.conv1 = torch.nn.Conv2d(3, 8, 3, padding=\"same\")\n",
    "        self.bn1 = torch.nn.BatchNorm2d(8)\n",
    "        self.relu = torch.nn.ReLU()\n",
    "        self.maxpool = torch.nn.MaxPool2d(2, 2)\n",
    "        self.conv2 = torch.nn.Conv2d(8, 32, 3, padding=\"same\")\n",
    "        self.bn2 = torch.nn.BatchNorm2d(32)\n",
    "        self.conv3 = torch.nn.Conv2d(32, 64, 3, padding=\"same\")\n",
    "        self.bn3 = torch.nn.BatchNorm2d(64)\n",
    "        self.flatten = torch.nn.Flatten()\n",
    "        self.linear = torch.nn.Linear(1024, 256)\n",
    "        self.linear2 = torch.nn.Linear(256, 10)\n",
    "        self.dropout = torch.nn.Dropout(p=0.5)\n",
    "\n",
    "    \n",
    "    def forward(self, x):\n",
    "        x = self.conv1(x)\n",
    "        x = self.bn1(x)\n",
    "        x = self.relu(x)\n",
    "        x = self.maxpool(x)\n",
    "        x = self.conv2(x)\n",
    "        x = self.bn2(x)\n",
    "        x = self.relu(x)\n",
    "        x = self.maxpool(x)\n",
    "        x = self.conv3(x)\n",
    "        x = self.bn3(x)\n",
    "        x = self.relu(x)\n",
    "        x = self.maxpool(x)\n",
    "        x = self.flatten(x)\n",
    "        x = self.linear(x)\n",
    "        x = self.dropout(x)\n",
    "        x = self.relu(x)\n",
    "        x = self.linear2(x)\n",
    "        return x"
   ]
  },
  {
   "cell_type": "code",
   "execution_count": 54,
   "metadata": {},
   "outputs": [],
   "source": [
    "class CifarDataset(torch.utils.data.Dataset):\n",
    "    def __init__(self, image_dir, dtype=torch.float32, device=\"cpu\", batches=5):\n",
    "        self.counter = 0\n",
    "        self.image_dir = pathlib.Path(image_dir)\n",
    "        self.dtype = torch.float64\n",
    "        self.device = device\n",
    "        self.X = torch.zeros(batches*10000,3072, dtype=self.dtype, device=self.device)\n",
    "        self.y = torch.zeros(batches*10000, dtype=torch.int64, device=self.device)\n",
    "        self.batches = batches\n",
    "\n",
    "        self.mean = torch.zeros(3,dtype=self.dtype, device=self.device)\n",
    "        self.std = torch.zeros(3, dtype=self.dtype, device=self.device)\n",
    "        for i in range(batches):\n",
    "            batch_dir = self.image_dir / f\"data_batch_{i+1}\"\n",
    "            with batch_dir.open(\"rb\") as fin:\n",
    "                data = pickle.load(fin, encoding=\"bytes\")\n",
    "            X = torch.from_numpy(data[b\"data\"]).to(self.dtype).to(self.device)\n",
    "            y = torch.tensor(data[b\"labels\"]).to(dtype=torch.int64).to(self.device)\n",
    "            self.X[i:i+10000] = X\n",
    "            self.y[i:i+10000] = y\n",
    "            X_view = X.view(-1,3,32,32)\n",
    "            self.mean += torch.mean(X_view, dim=(0,2,3))\n",
    "            self.std += torch.std(X_view, dim=(0,2,3))**2\n",
    "        self.mean /= 5\n",
    "        self.std /= 5\n",
    "        self.std = torch.sqrt(self.std)\n",
    "\n",
    "    def __len__(self):\n",
    "        return self.batches * 10000\n",
    "\n",
    "    def __getitem__(self, idx):\n",
    "        X, y = self.X[idx].view(3,32,32), self.y[idx]\n",
    "        X = (X - self.mean.view(-1,1,1))/self.std.view(-1,1,1)\n",
    "        return X, y\n",
    "\n",
    "class CifarTestDataset(torch.utils.data.Dataset):\n",
    "    def __init__(self, image_dir, dtype=torch.float32, device=\"cpu\"):\n",
    "        self.counter = 0\n",
    "        self.image_dir = pathlib.Path(image_dir)\n",
    "        self.dtype = torch.float64\n",
    "        self.device = device\n",
    "        self.X = torch.zeros(10000,3072, dtype=self.dtype, device=self.device)\n",
    "        self.y = torch.zeros(10000, dtype=torch.int64, device=self.device)\n",
    "\n",
    "        self.mean = torch.zeros(3,dtype=self.dtype, device=self.device)\n",
    "        self.std = torch.zeros(3, dtype=self.dtype, device=self.device)\n",
    "        batch_dir = self.image_dir / \"test_batch\"\n",
    "        with batch_dir.open(\"rb\") as fin:\n",
    "            data = pickle.load(fin, encoding=\"bytes\")\n",
    "        X = torch.from_numpy(data[b\"data\"]).to(self.dtype).to(self.device)\n",
    "        y = torch.tensor(data[b\"labels\"]).to(dtype=torch.int64).to(self.device)\n",
    "        self.X = X\n",
    "        self.y = y\n",
    "        X_view = X.view(-1,3,32,32)\n",
    "        self.mean += torch.mean(X_view, dim=(0,2,3))\n",
    "        self.std += torch.std(X_view, dim=(0,2,3))**2\n",
    "        self.mean /= 5\n",
    "        self.std /= 5\n",
    "        self.std = torch.sqrt(self.std)\n",
    "\n",
    "    def __len__(self):\n",
    "        return 10000\n",
    "\n",
    "    def __getitem__(self, idx):\n",
    "        X, y = self.X[idx].view(3,32,32), self.y[idx]\n",
    "        X = (X - self.mean.view(-1,1,1))/self.std.view(-1,1,1)\n",
    "        return X, y\n"
   ]
  },
  {
   "cell_type": "code",
   "execution_count": 71,
   "metadata": {},
   "outputs": [],
   "source": [
    "training_data = CifarDataset(\"./temp/cifar-10-batches-py\", device=\"cuda\", batches=5)\n",
    "test_data = CifarTestDataset(\"./temp/cifar-10-batches-py\", device=\"cuda\")"
   ]
  },
  {
   "cell_type": "code",
   "execution_count": 72,
   "metadata": {},
   "outputs": [],
   "source": [
    "loss = torch.nn.CrossEntropyLoss()\n",
    "model = TestNet(\"./temp/checkpoint\")\n",
    "optimizer = torch.optim.Adam(model.parameters(), 5e-4)"
   ]
  },
  {
   "cell_type": "code",
   "execution_count": 73,
   "metadata": {},
   "outputs": [
    {
     "name": "stdout",
     "output_type": "stream",
     "text": [
      "Epoch 0: loss = 0.5264429248336295\n",
      "Epoch 1: loss = 0.7517365796467639\n",
      "Epoch 2: loss = 0.15024286459023886\n",
      "Epoch 3: loss = 0.08578587206129741\n",
      "Epoch 4: loss = 0.13616691289448563\n",
      "Epoch 5: loss = 0.1893062462051992\n",
      "Epoch 6: loss = 0.08541804982544826\n",
      "Epoch 7: loss = 0.3818427237438626\n",
      "Epoch 8: loss = 0.28565475118634226\n",
      "Epoch 9: loss = 0.14231828699693586\n",
      "Epoch 10: loss = 0.08811586082764478\n",
      "Epoch 11: loss = 0.050778152005478014\n",
      "Epoch 12: loss = 0.013205246640883777\n",
      "Epoch 13: loss = 0.16429552919107984\n",
      "Epoch 14: loss = 0.0717465898248458\n",
      "Epoch 15: loss = 0.010707266170699597\n",
      "Epoch 16: loss = 0.19320338457645678\n",
      "Epoch 17: loss = 0.01084233203798644\n",
      "Epoch 18: loss = 0.012503852662228277\n",
      "Epoch 19: loss = 0.12082582116207229\n"
     ]
    }
   ],
   "source": [
    "model.double()\n",
    "model.cuda()\n",
    "train_loader = torch.utils.data.DataLoader(training_data, batch_size=64, shuffle=True)\n",
    "for i in range(20):\n",
    "    for iteration, (X,y) in enumerate(train_loader):\n",
    "        pred = model(X)\n",
    "        l = loss(pred, y)\n",
    "        optimizer.zero_grad()\n",
    "        l.backward()\n",
    "        optimizer.step()\n",
    "    print(f\"Epoch {i}: loss = {l.item()}\")"
   ]
  },
  {
   "cell_type": "code",
   "execution_count": 87,
   "metadata": {},
   "outputs": [
    {
     "name": "stdout",
     "output_type": "stream",
     "text": [
      "tensor(2, device='cuda:0')\n",
      "tensor([6], device='cuda:0')\n"
     ]
    },
    {
     "data": {
      "image/png": "[encoded data removed]",
      "text/plain": [
       "<Figure size 432x288 with 1 Axes>"
      ]
     },
     "metadata": {
      "needs_background": "light"
     },
     "output_type": "display_data"
    }
   ],
   "source": [
    "import matplotlib.pyplot as plt\n",
    "import random\n",
    "\n",
    "test_loader = torch.utils.data.DataLoader(test_data)\n",
    "test_iter = iter(test_loader)\n",
    "for i in range(random.randint(0,9999)):\n",
    "    next(test_iter)\n",
    "model.eval()\n",
    "with torch.no_grad():\n",
    "    X,y = next(test_iter)\n",
    "    pred = model(X)\n",
    "    cpu = X.clone().cpu()[0]\n",
    "    cpu *= test_data.std.view(-1,1,1).cpu()\n",
    "    cpu += test_data.mean.view(-1,1,1).cpu()\n",
    "    plt.imshow(cpu.permute(1, 2, 0)/255.0)\n",
    "    print(torch.argmax(pred))\n",
    "    print(y)"
   ]
  },
  {
   "cell_type": "code",
   "execution_count": 81,
   "metadata": {},
   "outputs": [
    {
     "name": "stdout",
     "output_type": "stream",
     "text": [
      "Model:\n",
      "══════════════════════════════════════════════════\n",
      "conv1: Conv2d(3, 8, kernel_size=(3, 3), stride=(1, 1), padding=same) - 224 parameters\n",
      "──────────────────────────────────────────────────\n",
      "bn1: BatchNorm2d(8, eps=1e-05, momentum=0.1, affine=True, track_running_stats=True) - 16 parameters\n",
      "──────────────────────────────────────────────────\n",
      "relu: ReLU() - 0 parameters\n",
      "──────────────────────────────────────────────────\n",
      "maxpool: MaxPool2d(kernel_size=2, stride=2, padding=0, dilation=1, ceil_mode=False) - 0 parameters\n",
      "──────────────────────────────────────────────────\n",
      "conv2: Conv2d(8, 32, kernel_size=(3, 3), stride=(1, 1), padding=same) - 2336 parameters\n",
      "──────────────────────────────────────────────────\n",
      "bn2: BatchNorm2d(32, eps=1e-05, momentum=0.1, affine=True, track_running_stats=True) - 64 parameters\n",
      "──────────────────────────────────────────────────\n",
      "conv3: Conv2d(32, 64, kernel_size=(3, 3), stride=(1, 1), padding=same) - 18496 parameters\n",
      "──────────────────────────────────────────────────\n",
      "bn3: BatchNorm2d(64, eps=1e-05, momentum=0.1, affine=True, track_running_stats=True) - 128 parameters\n",
      "──────────────────────────────────────────────────\n",
      "flatten: Flatten(start_dim=1, end_dim=-1) - 0 parameters\n",
      "──────────────────────────────────────────────────\n",
      "linear: Linear(in_features=1024, out_features=256, bias=True) - 262400 parameters\n",
      "──────────────────────────────────────────────────\n",
      "linear2: Linear(in_features=256, out_features=10, bias=True) - 2570 parameters\n",
      "──────────────────────────────────────────────────\n",
      "dropout: Dropout(p=0.5, inplace=False) - 0 parameters\n",
      "══════════════════════════════════════════════════\n",
      "Total Parameter Count: 286234\n",
      "══════════════════════════════════════════════════\n"
     ]
    }
   ],
   "source": [
    "print(model.summary())"
   ]
  },
  {
   "cell_type": "code",
   "execution_count": 76,
   "metadata": {},
   "outputs": [
    {
     "name": "stdout",
     "output_type": "stream",
     "text": [
      "0.4881\n"
     ]
    }
   ],
   "source": [
    "import matplotlib.pyplot as plt\n",
    "import random\n",
    "\n",
    "test_loader = torch.utils.data.DataLoader(test_data)\n",
    "test_iter = iter(test_loader)\n",
    "model.eval()\n",
    "count = 0\n",
    "with torch.no_grad():\n",
    "    for X,y in test_loader:\n",
    "        pred = model(X)\n",
    "        if torch.argmax(pred) == y.item():\n",
    "            count += 1\n",
    "print(f\"{count/10000}\")"
   ]
  }
 ],
 "metadata": {
  "interpreter": {
   "hash": "0dc7dae8f86aa0815ebcc0f5edef336deaa3c824906de16ed3a6393e95b583d8"
  },
  "kernelspec": {
   "display_name": "Python 3.9.10 ('venv': venv)",
   "language": "python",
   "name": "python3"
  },
  "language_info": {
   "codemirror_mode": {
    "name": "ipython",
    "version": 3
   },
   "file_extension": ".py",
   "mimetype": "text/x-python",
   "name": "python",
   "nbconvert_exporter": "python",
   "pygments_lexer": "ipython3",
   "version": "3.9.5"
  },
  "orig_nbformat": 4
 },
 "nbformat": 4,
 "nbformat_minor": 2
}
