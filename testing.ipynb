{
 "cells": [
  {
   "cell_type": "code",
   "execution_count": 15,
   "metadata": {},
   "outputs": [
    {
     "name": "stdout",
     "output_type": "stream",
     "text": [
      "The autoreload extension is already loaded. To reload it, use:\n",
      "  %reload_ext autoreload\n"
     ]
    }
   ],
   "source": [
    "%load_ext autoreload\n",
    "%autoreload 2"
   ]
  },
  {
   "cell_type": "code",
   "execution_count": 16,
   "metadata": {},
   "outputs": [],
   "source": [
    "import torch\n",
    "from infra.model_base import ModelBase\n",
    "import requests\n",
    "import shutil\n",
    "import pathlib\n",
    "import pickle"
   ]
  },
  {
   "cell_type": "code",
   "execution_count": 17,
   "metadata": {},
   "outputs": [],
   "source": [
    "r = requests.get(\"https://www.cs.toronto.edu/~kriz/cifar-10-python.tar.gz\", stream=True)\n",
    "download = pathlib.Path(\"./temp\")\n",
    "if not download.exists():\n",
    "    download.mkdir(parents=True)\n",
    "download = download / \"cifar-10.tar.gz\"\n",
    "with download.open(\"wb\") as fout:\n",
    "    shutil.copyfileobj(r.raw, fout)"
   ]
  },
  {
   "cell_type": "code",
   "execution_count": 18,
   "metadata": {},
   "outputs": [],
   "source": [
    "class TestNet(ModelBase):\n",
    "    def __init__(self, checkpoint_dir):\n",
    "        super(TestNet, self).__init__(checkpoint_dir)\n",
    "        self.conv1 = torch.nn.Conv2d(3, 8, 3, padding=\"same\")\n",
    "        self.bn1 = torch.nn.BatchNorm2d(8)\n",
    "        self.relu = torch.nn.ReLU()\n",
    "        self.maxpool = torch.nn.MaxPool2d(2, 2)\n",
    "        self.conv2 = torch.nn.Conv2d(8, 32, 3, padding=\"same\")\n",
    "        self.bn2 = torch.nn.BatchNorm2d(32)\n",
    "        self.conv3 = torch.nn.Conv2d(32, 64, 3, padding=\"same\")\n",
    "        self.bn3 = torch.nn.BatchNorm2d(64)\n",
    "        self.flatten = torch.nn.Flatten()\n",
    "        self.linear = torch.nn.Linear(256, 10)\n",
    "\n",
    "    \n",
    "    def forward(self, x):\n",
    "        x = self.conv1(x)\n",
    "        x = self.bn1(x)\n",
    "        x = self.relu(x)\n",
    "        x = self.maxpool(x)\n",
    "        x = self.conv2(x)\n",
    "        x = self.bn2(x)\n",
    "        x = self.relu(x)\n",
    "        x = self.maxpool(x)\n",
    "        x = self.conv3(x)\n",
    "        x = self.bn3(x)\n",
    "        x = self.relu(x)\n",
    "        x = self.maxpool(x)\n",
    "        x = self.flatten(x)\n",
    "        x = self.linear(x)\n",
    "        return x"
   ]
  },
  {
   "cell_type": "code",
   "execution_count": 19,
   "metadata": {},
   "outputs": [],
   "source": [
    "loss = torch.nn.CrossEntropyLoss()\n",
    "model = TestNet(\"./temp/checkpoint\")\n",
    "optimizer = torch.optim.Adam(model.parameters(), 1e-3)"
   ]
  },
  {
   "cell_type": "code",
   "execution_count": 23,
   "metadata": {},
   "outputs": [
    {
     "name": "stdout",
     "output_type": "stream",
     "text": [
      "Model:\n",
      "══════════════════════════════════════════════════\n",
      "conv1: Conv2d(3, 8, kernel_size=(3, 3), stride=(1, 1), padding=same) - 224 parameters\n",
      "──────────────────────────────────────────────────\n",
      "bn1: BatchNorm2d(8, eps=1e-05, momentum=0.1, affine=True, track_running_stats=True) - 16 parameters\n",
      "──────────────────────────────────────────────────\n",
      "relu: ReLU() - 0 parameters\n",
      "──────────────────────────────────────────────────\n",
      "maxpool: MaxPool2d(kernel_size=2, stride=2, padding=0, dilation=1, ceil_mode=False) - 0 parameters\n",
      "──────────────────────────────────────────────────\n",
      "conv2: Conv2d(8, 32, kernel_size=(3, 3), stride=(1, 1), padding=same) - 2336 parameters\n",
      "──────────────────────────────────────────────────\n",
      "bn2: BatchNorm2d(32, eps=1e-05, momentum=0.1, affine=True, track_running_stats=True) - 64 parameters\n",
      "──────────────────────────────────────────────────\n",
      "conv3: Conv2d(32, 64, kernel_size=(3, 3), stride=(1, 1), padding=same) - 18496 parameters\n",
      "──────────────────────────────────────────────────\n",
      "bn3: BatchNorm2d(64, eps=1e-05, momentum=0.1, affine=True, track_running_stats=True) - 128 parameters\n",
      "──────────────────────────────────────────────────\n",
      "flatten: Flatten(start_dim=1, end_dim=-1) - 0 parameters\n",
      "──────────────────────────────────────────────────\n",
      "linear: Linear(in_features=256, out_features=10, bias=True) - 2570 parameters\n",
      "══════════════════════════════════════════════════\n",
      "Total Parameter Count: 23834\n",
      "══════════════════════════════════════════════════\n"
     ]
    }
   ],
   "source": [
    "print(model.summary())"
   ]
  },
  {
   "cell_type": "code",
   "execution_count": 21,
   "metadata": {},
   "outputs": [],
   "source": [
    "def unpickle(file):\n",
    "    import pickle\n",
    "    with open(file, 'rb') as fo:\n",
    "        dict = pickle.load(fo, encoding='bytes')\n",
    "    return dict\n",
    "batch_1 = unpickle(\"./temp/cifar-10-batches-py/data_batch_1\")"
   ]
  },
  {
   "cell_type": "code",
   "execution_count": 22,
   "metadata": {},
   "outputs": [],
   "source": [
    "X, y = batch_1[b\"data\"].reshape(-1,3, 32, 32), batch_1[b\"labels\"]"
   ]
  },
  {
   "cell_type": "code",
   "execution_count": null,
   "metadata": {},
   "outputs": [],
   "source": [
    "class CifarDataset(torch.utils.Dataset):\n",
    "    def __init__(self,  )"
   ]
  }
 ],
 "metadata": {
  "interpreter": {
   "hash": "0dc7dae8f86aa0815ebcc0f5edef336deaa3c824906de16ed3a6393e95b583d8"
  },
  "kernelspec": {
   "display_name": "Python 3.9.10 ('venv': venv)",
   "language": "python",
   "name": "python3"
  },
  "language_info": {
   "codemirror_mode": {
    "name": "ipython",
    "version": 3
   },
   "file_extension": ".py",
   "mimetype": "text/x-python",
   "name": "python",
   "nbconvert_exporter": "python",
   "pygments_lexer": "ipython3",
   "version": "3.9.10"
  },
  "orig_nbformat": 4
 },
 "nbformat": 4,
 "nbformat_minor": 2
}
